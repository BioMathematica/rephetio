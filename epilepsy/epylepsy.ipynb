{
 "cells": [
  {
   "cell_type": "markdown",
   "metadata": {},
   "source": [
    "# Python analysis of Project Rephetio epilepsy predictions"
   ]
  },
  {
   "cell_type": "code",
   "execution_count": 1,
   "metadata": {
    "collapsed": false
   },
   "outputs": [],
   "source": [
    "import pandas\n",
    "import collections"
   ]
  },
  {
   "cell_type": "code",
   "execution_count": 2,
   "metadata": {
    "collapsed": false
   },
   "outputs": [
    {
     "data": {
      "text/html": [
       "<div>\n",
       "<table border=\"1\" class=\"dataframe\">\n",
       "  <thead>\n",
       "    <tr style=\"text-align: right;\">\n",
       "      <th></th>\n",
       "      <th>name</th>\n",
       "      <th>prediction</th>\n",
       "      <th>disease_pctl</th>\n",
       "      <th>status</th>\n",
       "    </tr>\n",
       "  </thead>\n",
       "  <tbody>\n",
       "    <tr>\n",
       "      <th>0</th>\n",
       "      <td>Topiramate</td>\n",
       "      <td>0.603</td>\n",
       "      <td>1.000</td>\n",
       "      <td>AED</td>\n",
       "    </tr>\n",
       "    <tr>\n",
       "      <th>1</th>\n",
       "      <td>Ethotoin</td>\n",
       "      <td>0.589</td>\n",
       "      <td>0.999</td>\n",
       "      <td>AED</td>\n",
       "    </tr>\n",
       "  </tbody>\n",
       "</table>\n",
       "</div>"
      ],
      "text/plain": [
       "         name  prediction  disease_pctl status\n",
       "0  Topiramate       0.603         1.000    AED\n",
       "1    Ethotoin       0.589         0.999    AED"
      ]
     },
     "execution_count": 2,
     "metadata": {},
     "output_type": "execute_result"
    }
   ],
   "source": [
    "pk_df = (\n",
    "    pandas.read_excel('data/top-5-percent-PK-plots.xlsx', skiprows=1)\n",
    "    .iloc[:100, :11]\n",
    "    .rename(columns={'Name': 'name', 'Prediction score': 'prediction', 'Disease Pctl': 'disease_pctl'})\n",
    ")\n",
    "\n",
    "pk_df['status'] = (pk_df\n",
    "    [['AED', 'Anti-Epileptic properties', 'Induces seizure']]\n",
    "    .astype(int).max(axis='columns')\n",
    "    .map({4: 'AED', 3: 'AEP', 1: 'IS', 0: '?'})\n",
    ")\n",
    "\n",
    "pk_df = pk_df[['name', 'prediction', 'disease_pctl', 'status']]\n",
    "pk_df.head(2)"
   ]
  },
  {
   "cell_type": "code",
   "execution_count": 3,
   "metadata": {
    "collapsed": false
   },
   "outputs": [],
   "source": [
    "statuses = sorted(pk_df.status.unique())"
   ]
  },
  {
   "cell_type": "code",
   "execution_count": 4,
   "metadata": {
    "collapsed": false
   },
   "outputs": [],
   "source": [
    "def rolling_groups(df, k=5):\n",
    "    \"\"\"Yield rolling windows on dataframe\"\"\"\n",
    "    for i in range(len(df)):\n",
    "        start = max(0, i - k)\n",
    "        end = i + k + 1\n",
    "        yield df.iloc[start:end, :]\n",
    "\n",
    "def summarize_window(df):\n",
    "    s = pandas.Series()\n",
    "    s['min_pred'] = min(df.prediction)\n",
    "    s['max_pred'] = max(df.prediction)\n",
    "    counter = collections.Counter(df.status)\n",
    "    for status in statuses:\n",
    "        s['freq_' + status] = counter[status] / len(df)\n",
    "    return s\n",
    "\n",
    "rolling_df = pandas.DataFrame.from_records(\n",
    "    map(summarize_window, rolling_groups(pk_df, k=7))\n",
    ")"
   ]
  },
  {
   "cell_type": "code",
   "execution_count": 5,
   "metadata": {
    "collapsed": false
   },
   "outputs": [],
   "source": [
    "plot_df = pandas.concat([pk_df, rolling_df], axis='rows')"
   ]
  },
  {
   "cell_type": "code",
   "execution_count": 6,
   "metadata": {
    "collapsed": false
   },
   "outputs": [
    {
     "data": {
      "text/html": [
       "<div>\n",
       "<table border=\"1\" class=\"dataframe\">\n",
       "  <thead>\n",
       "    <tr style=\"text-align: right;\">\n",
       "      <th></th>\n",
       "      <th>name</th>\n",
       "      <th>prediction</th>\n",
       "      <th>disease_pctl</th>\n",
       "      <th>status</th>\n",
       "      <th>min_pred</th>\n",
       "      <th>max_pred</th>\n",
       "      <th>freq_?</th>\n",
       "      <th>freq_AED</th>\n",
       "      <th>freq_AEP</th>\n",
       "      <th>freq_IS</th>\n",
       "    </tr>\n",
       "  </thead>\n",
       "  <tbody>\n",
       "    <tr>\n",
       "      <th>95</th>\n",
       "      <td>Desipramine</td>\n",
       "      <td>0.0308</td>\n",
       "      <td>0.938</td>\n",
       "      <td>IS</td>\n",
       "      <td>0.0298</td>\n",
       "      <td>0.0330</td>\n",
       "      <td>0.166667</td>\n",
       "      <td>0.416667</td>\n",
       "      <td>0.083333</td>\n",
       "      <td>0.333333</td>\n",
       "    </tr>\n",
       "    <tr>\n",
       "      <th>96</th>\n",
       "      <td>Dabrafenib</td>\n",
       "      <td>0.0306</td>\n",
       "      <td>0.938</td>\n",
       "      <td>?</td>\n",
       "      <td>0.0298</td>\n",
       "      <td>0.0329</td>\n",
       "      <td>0.090909</td>\n",
       "      <td>0.454545</td>\n",
       "      <td>0.090909</td>\n",
       "      <td>0.363636</td>\n",
       "    </tr>\n",
       "    <tr>\n",
       "      <th>97</th>\n",
       "      <td>Rufinamide</td>\n",
       "      <td>0.0305</td>\n",
       "      <td>0.937</td>\n",
       "      <td>AED</td>\n",
       "      <td>0.0298</td>\n",
       "      <td>0.0327</td>\n",
       "      <td>0.100000</td>\n",
       "      <td>0.400000</td>\n",
       "      <td>0.100000</td>\n",
       "      <td>0.400000</td>\n",
       "    </tr>\n",
       "    <tr>\n",
       "      <th>98</th>\n",
       "      <td>Memantine</td>\n",
       "      <td>0.0303</td>\n",
       "      <td>0.936</td>\n",
       "      <td>IS</td>\n",
       "      <td>0.0298</td>\n",
       "      <td>0.0327</td>\n",
       "      <td>0.111111</td>\n",
       "      <td>0.444444</td>\n",
       "      <td>0.000000</td>\n",
       "      <td>0.444444</td>\n",
       "    </tr>\n",
       "    <tr>\n",
       "      <th>99</th>\n",
       "      <td>Zolpidem</td>\n",
       "      <td>0.0298</td>\n",
       "      <td>0.936</td>\n",
       "      <td>AED</td>\n",
       "      <td>0.0298</td>\n",
       "      <td>0.0325</td>\n",
       "      <td>0.125000</td>\n",
       "      <td>0.500000</td>\n",
       "      <td>0.000000</td>\n",
       "      <td>0.375000</td>\n",
       "    </tr>\n",
       "  </tbody>\n",
       "</table>\n",
       "</div>"
      ],
      "text/plain": [
       "           name  prediction  disease_pctl status  min_pred  max_pred  \\\n",
       "95  Desipramine      0.0308         0.938     IS    0.0298    0.0330   \n",
       "96   Dabrafenib      0.0306         0.938      ?    0.0298    0.0329   \n",
       "97   Rufinamide      0.0305         0.937    AED    0.0298    0.0327   \n",
       "98    Memantine      0.0303         0.936     IS    0.0298    0.0327   \n",
       "99     Zolpidem      0.0298         0.936    AED    0.0298    0.0325   \n",
       "\n",
       "      freq_?  freq_AED  freq_AEP   freq_IS  \n",
       "95  0.166667  0.416667  0.083333  0.333333  \n",
       "96  0.090909  0.454545  0.090909  0.363636  \n",
       "97  0.100000  0.400000  0.100000  0.400000  \n",
       "98  0.111111  0.444444  0.000000  0.444444  \n",
       "99  0.125000  0.500000  0.000000  0.375000  "
      ]
     },
     "execution_count": 6,
     "metadata": {},
     "output_type": "execute_result"
    }
   ],
   "source": [
    "plot_df.tail()"
   ]
  },
  {
   "cell_type": "code",
   "execution_count": 7,
   "metadata": {
    "collapsed": true
   },
   "outputs": [],
   "source": [
    "plot_df.to_csv('data/windows.tsv', sep='\\t', index=False, float_format='%.5g')"
   ]
  },
  {
   "cell_type": "markdown",
   "metadata": {},
   "source": [
    "## Stats"
   ]
  },
  {
   "cell_type": "code",
   "execution_count": 8,
   "metadata": {
    "collapsed": false
   },
   "outputs": [
    {
     "data": {
      "text/plain": [
       "100"
      ]
     },
     "execution_count": 8,
     "metadata": {},
     "output_type": "execute_result"
    }
   ],
   "source": [
    "len(plot_df)"
   ]
  },
  {
   "cell_type": "code",
   "execution_count": 9,
   "metadata": {
    "collapsed": false
   },
   "outputs": [
    {
     "data": {
      "text/plain": [
       "AED    69\n",
       "IS     15\n",
       "?       9\n",
       "AEP     7\n",
       "Name: status, dtype: int64"
      ]
     },
     "execution_count": 9,
     "metadata": {},
     "output_type": "execute_result"
    }
   ],
   "source": [
    "plot_df.status.value_counts()"
   ]
  },
  {
   "cell_type": "code",
   "execution_count": 10,
   "metadata": {
    "collapsed": false
   },
   "outputs": [
    {
     "data": {
      "text/plain": [
       "25"
      ]
     },
     "execution_count": 10,
     "metadata": {},
     "output_type": "execute_result"
    }
   ],
   "source": [
    "url = 'https://github.com/dhimmel/learn/raw/d2251a942813015d0362a90f179c961016336e77/summary/indications.tsv'\n",
    "aeds_in_phdb = (\n",
    "    pandas.read_table(url)\n",
    "    .query(\"rel_type == 'TREATS_CtD'\")\n",
    "    .query(\"disease_id == 'DOID:1826'\")\n",
    "    .compound_name\n",
    "    .tolist()\n",
    ")\n",
    "# Number of disease-modifying antiepileptics in PharmacotherapyDB\n",
    "len(set(aeds_in_phdb))"
   ]
  },
  {
   "cell_type": "code",
   "execution_count": 11,
   "metadata": {
    "collapsed": false
   },
   "outputs": [
    {
     "data": {
      "text/plain": [
       "23"
      ]
     },
     "execution_count": 11,
     "metadata": {},
     "output_type": "execute_result"
    }
   ],
   "source": [
    "# Number of disease-modifying antiepileptics from PharmacotherapyDB in top 100 predictions\n",
    "len(set(aeds_in_phdb) & set(plot_df.name))"
   ]
  },
  {
   "cell_type": "code",
   "execution_count": 12,
   "metadata": {
    "collapsed": false
   },
   "outputs": [
    {
     "data": {
      "text/plain": [
       "{'Propofol', 'Vigabatrin'}"
      ]
     },
     "execution_count": 12,
     "metadata": {},
     "output_type": "execute_result"
    }
   ],
   "source": [
    "# Disease-modifying antiepileptics from PharmacotherapyDB not in top 100 predictions\n",
    "set(aeds_in_phdb) - set(plot_df.name)"
   ]
  },
  {
   "cell_type": "code",
   "execution_count": 13,
   "metadata": {
    "collapsed": false
   },
   "outputs": [
    {
     "data": {
      "text/html": [
       "<div>\n",
       "<table border=\"1\" class=\"dataframe\">\n",
       "  <thead>\n",
       "    <tr style=\"text-align: right;\">\n",
       "      <th></th>\n",
       "      <th>name</th>\n",
       "      <th>prediction</th>\n",
       "      <th>disease_pctl</th>\n",
       "      <th>status</th>\n",
       "      <th>min_pred</th>\n",
       "      <th>max_pred</th>\n",
       "      <th>freq_?</th>\n",
       "      <th>freq_AED</th>\n",
       "      <th>freq_AEP</th>\n",
       "      <th>freq_IS</th>\n",
       "    </tr>\n",
       "  </thead>\n",
       "  <tbody>\n",
       "    <tr>\n",
       "      <th>0</th>\n",
       "      <td>Topiramate</td>\n",
       "      <td>0.6030</td>\n",
       "      <td>1.000</td>\n",
       "      <td>AED</td>\n",
       "      <td>0.4600</td>\n",
       "      <td>0.6030</td>\n",
       "      <td>0.000000</td>\n",
       "      <td>1.000000</td>\n",
       "      <td>0.000000</td>\n",
       "      <td>0.000000</td>\n",
       "    </tr>\n",
       "    <tr>\n",
       "      <th>4</th>\n",
       "      <td>Primidone</td>\n",
       "      <td>0.4940</td>\n",
       "      <td>0.997</td>\n",
       "      <td>AED</td>\n",
       "      <td>0.4020</td>\n",
       "      <td>0.6030</td>\n",
       "      <td>0.000000</td>\n",
       "      <td>1.000000</td>\n",
       "      <td>0.000000</td>\n",
       "      <td>0.000000</td>\n",
       "    </tr>\n",
       "    <tr>\n",
       "      <th>6</th>\n",
       "      <td>Gabapentin</td>\n",
       "      <td>0.4770</td>\n",
       "      <td>0.996</td>\n",
       "      <td>AED</td>\n",
       "      <td>0.3750</td>\n",
       "      <td>0.6030</td>\n",
       "      <td>0.000000</td>\n",
       "      <td>1.000000</td>\n",
       "      <td>0.000000</td>\n",
       "      <td>0.000000</td>\n",
       "    </tr>\n",
       "    <tr>\n",
       "      <th>7</th>\n",
       "      <td>Diazepam</td>\n",
       "      <td>0.4600</td>\n",
       "      <td>0.995</td>\n",
       "      <td>AED</td>\n",
       "      <td>0.3620</td>\n",
       "      <td>0.6030</td>\n",
       "      <td>0.000000</td>\n",
       "      <td>1.000000</td>\n",
       "      <td>0.000000</td>\n",
       "      <td>0.000000</td>\n",
       "    </tr>\n",
       "    <tr>\n",
       "      <th>10</th>\n",
       "      <td>Valproic Acid</td>\n",
       "      <td>0.4090</td>\n",
       "      <td>0.993</td>\n",
       "      <td>AED</td>\n",
       "      <td>0.3540</td>\n",
       "      <td>0.5650</td>\n",
       "      <td>0.000000</td>\n",
       "      <td>1.000000</td>\n",
       "      <td>0.000000</td>\n",
       "      <td>0.000000</td>\n",
       "    </tr>\n",
       "    <tr>\n",
       "      <th>14</th>\n",
       "      <td>Phenytoin</td>\n",
       "      <td>0.3620</td>\n",
       "      <td>0.991</td>\n",
       "      <td>AED</td>\n",
       "      <td>0.2840</td>\n",
       "      <td>0.4600</td>\n",
       "      <td>0.000000</td>\n",
       "      <td>1.000000</td>\n",
       "      <td>0.000000</td>\n",
       "      <td>0.000000</td>\n",
       "    </tr>\n",
       "    <tr>\n",
       "      <th>16</th>\n",
       "      <td>Clonazepam</td>\n",
       "      <td>0.3540</td>\n",
       "      <td>0.990</td>\n",
       "      <td>AED</td>\n",
       "      <td>0.2820</td>\n",
       "      <td>0.4300</td>\n",
       "      <td>0.000000</td>\n",
       "      <td>1.000000</td>\n",
       "      <td>0.000000</td>\n",
       "      <td>0.000000</td>\n",
       "    </tr>\n",
       "    <tr>\n",
       "      <th>17</th>\n",
       "      <td>Oxcarbazepine</td>\n",
       "      <td>0.3540</td>\n",
       "      <td>0.989</td>\n",
       "      <td>AED</td>\n",
       "      <td>0.2520</td>\n",
       "      <td>0.4090</td>\n",
       "      <td>0.000000</td>\n",
       "      <td>0.933333</td>\n",
       "      <td>0.000000</td>\n",
       "      <td>0.066667</td>\n",
       "    </tr>\n",
       "    <tr>\n",
       "      <th>18</th>\n",
       "      <td>Carbamazepine</td>\n",
       "      <td>0.3410</td>\n",
       "      <td>0.988</td>\n",
       "      <td>AED</td>\n",
       "      <td>0.2480</td>\n",
       "      <td>0.4020</td>\n",
       "      <td>0.000000</td>\n",
       "      <td>0.933333</td>\n",
       "      <td>0.000000</td>\n",
       "      <td>0.066667</td>\n",
       "    </tr>\n",
       "    <tr>\n",
       "      <th>19</th>\n",
       "      <td>Midazolam</td>\n",
       "      <td>0.3300</td>\n",
       "      <td>0.988</td>\n",
       "      <td>AED</td>\n",
       "      <td>0.2460</td>\n",
       "      <td>0.3810</td>\n",
       "      <td>0.000000</td>\n",
       "      <td>0.933333</td>\n",
       "      <td>0.000000</td>\n",
       "      <td>0.066667</td>\n",
       "    </tr>\n",
       "    <tr>\n",
       "      <th>22</th>\n",
       "      <td>Felbamate</td>\n",
       "      <td>0.2820</td>\n",
       "      <td>0.986</td>\n",
       "      <td>AED</td>\n",
       "      <td>0.1470</td>\n",
       "      <td>0.3620</td>\n",
       "      <td>0.000000</td>\n",
       "      <td>0.933333</td>\n",
       "      <td>0.000000</td>\n",
       "      <td>0.066667</td>\n",
       "    </tr>\n",
       "    <tr>\n",
       "      <th>25</th>\n",
       "      <td>Lacosamide</td>\n",
       "      <td>0.2480</td>\n",
       "      <td>0.984</td>\n",
       "      <td>AED</td>\n",
       "      <td>0.1270</td>\n",
       "      <td>0.3410</td>\n",
       "      <td>0.000000</td>\n",
       "      <td>0.933333</td>\n",
       "      <td>0.000000</td>\n",
       "      <td>0.066667</td>\n",
       "    </tr>\n",
       "    <tr>\n",
       "      <th>26</th>\n",
       "      <td>Fosphenytoin</td>\n",
       "      <td>0.2460</td>\n",
       "      <td>0.983</td>\n",
       "      <td>AED</td>\n",
       "      <td>0.1270</td>\n",
       "      <td>0.3300</td>\n",
       "      <td>0.000000</td>\n",
       "      <td>0.933333</td>\n",
       "      <td>0.000000</td>\n",
       "      <td>0.066667</td>\n",
       "    </tr>\n",
       "    <tr>\n",
       "      <th>27</th>\n",
       "      <td>Lamotrigine</td>\n",
       "      <td>0.2220</td>\n",
       "      <td>0.982</td>\n",
       "      <td>AED</td>\n",
       "      <td>0.1230</td>\n",
       "      <td>0.2890</td>\n",
       "      <td>0.000000</td>\n",
       "      <td>0.933333</td>\n",
       "      <td>0.000000</td>\n",
       "      <td>0.066667</td>\n",
       "    </tr>\n",
       "    <tr>\n",
       "      <th>28</th>\n",
       "      <td>Clobazam</td>\n",
       "      <td>0.2140</td>\n",
       "      <td>0.982</td>\n",
       "      <td>AED</td>\n",
       "      <td>0.1150</td>\n",
       "      <td>0.2840</td>\n",
       "      <td>0.000000</td>\n",
       "      <td>0.933333</td>\n",
       "      <td>0.000000</td>\n",
       "      <td>0.066667</td>\n",
       "    </tr>\n",
       "    <tr>\n",
       "      <th>33</th>\n",
       "      <td>Zonisamide</td>\n",
       "      <td>0.1270</td>\n",
       "      <td>0.979</td>\n",
       "      <td>AED</td>\n",
       "      <td>0.1030</td>\n",
       "      <td>0.2460</td>\n",
       "      <td>0.000000</td>\n",
       "      <td>1.000000</td>\n",
       "      <td>0.000000</td>\n",
       "      <td>0.000000</td>\n",
       "    </tr>\n",
       "    <tr>\n",
       "      <th>34</th>\n",
       "      <td>Levetiracetam</td>\n",
       "      <td>0.1230</td>\n",
       "      <td>0.978</td>\n",
       "      <td>AED</td>\n",
       "      <td>0.1020</td>\n",
       "      <td>0.2220</td>\n",
       "      <td>0.000000</td>\n",
       "      <td>1.000000</td>\n",
       "      <td>0.000000</td>\n",
       "      <td>0.000000</td>\n",
       "    </tr>\n",
       "    <tr>\n",
       "      <th>46</th>\n",
       "      <td>Phenobarbital</td>\n",
       "      <td>0.0971</td>\n",
       "      <td>0.970</td>\n",
       "      <td>AED</td>\n",
       "      <td>0.0814</td>\n",
       "      <td>0.1040</td>\n",
       "      <td>0.200000</td>\n",
       "      <td>0.800000</td>\n",
       "      <td>0.000000</td>\n",
       "      <td>0.000000</td>\n",
       "    </tr>\n",
       "    <tr>\n",
       "      <th>50</th>\n",
       "      <td>Amobarbital</td>\n",
       "      <td>0.0850</td>\n",
       "      <td>0.967</td>\n",
       "      <td>AED</td>\n",
       "      <td>0.0777</td>\n",
       "      <td>0.0995</td>\n",
       "      <td>0.200000</td>\n",
       "      <td>0.800000</td>\n",
       "      <td>0.000000</td>\n",
       "      <td>0.000000</td>\n",
       "    </tr>\n",
       "    <tr>\n",
       "      <th>62</th>\n",
       "      <td>Trimethadione</td>\n",
       "      <td>0.0701</td>\n",
       "      <td>0.960</td>\n",
       "      <td>AED</td>\n",
       "      <td>0.0554</td>\n",
       "      <td>0.0805</td>\n",
       "      <td>0.066667</td>\n",
       "      <td>0.600000</td>\n",
       "      <td>0.066667</td>\n",
       "      <td>0.266667</td>\n",
       "    </tr>\n",
       "    <tr>\n",
       "      <th>70</th>\n",
       "      <td>Acetazolamide</td>\n",
       "      <td>0.0527</td>\n",
       "      <td>0.954</td>\n",
       "      <td>AEP</td>\n",
       "      <td>0.0437</td>\n",
       "      <td>0.0692</td>\n",
       "      <td>0.133333</td>\n",
       "      <td>0.333333</td>\n",
       "      <td>0.333333</td>\n",
       "      <td>0.200000</td>\n",
       "    </tr>\n",
       "    <tr>\n",
       "      <th>84</th>\n",
       "      <td>Pregabalin</td>\n",
       "      <td>0.0347</td>\n",
       "      <td>0.945</td>\n",
       "      <td>AED</td>\n",
       "      <td>0.0327</td>\n",
       "      <td>0.0437</td>\n",
       "      <td>0.133333</td>\n",
       "      <td>0.200000</td>\n",
       "      <td>0.200000</td>\n",
       "      <td>0.466667</td>\n",
       "    </tr>\n",
       "    <tr>\n",
       "      <th>97</th>\n",
       "      <td>Rufinamide</td>\n",
       "      <td>0.0305</td>\n",
       "      <td>0.937</td>\n",
       "      <td>AED</td>\n",
       "      <td>0.0298</td>\n",
       "      <td>0.0327</td>\n",
       "      <td>0.100000</td>\n",
       "      <td>0.400000</td>\n",
       "      <td>0.100000</td>\n",
       "      <td>0.400000</td>\n",
       "    </tr>\n",
       "  </tbody>\n",
       "</table>\n",
       "</div>"
      ],
      "text/plain": [
       "             name  prediction  disease_pctl status  min_pred  max_pred  \\\n",
       "0      Topiramate      0.6030         1.000    AED    0.4600    0.6030   \n",
       "4       Primidone      0.4940         0.997    AED    0.4020    0.6030   \n",
       "6      Gabapentin      0.4770         0.996    AED    0.3750    0.6030   \n",
       "7        Diazepam      0.4600         0.995    AED    0.3620    0.6030   \n",
       "10  Valproic Acid      0.4090         0.993    AED    0.3540    0.5650   \n",
       "14      Phenytoin      0.3620         0.991    AED    0.2840    0.4600   \n",
       "16     Clonazepam      0.3540         0.990    AED    0.2820    0.4300   \n",
       "17  Oxcarbazepine      0.3540         0.989    AED    0.2520    0.4090   \n",
       "18  Carbamazepine      0.3410         0.988    AED    0.2480    0.4020   \n",
       "19      Midazolam      0.3300         0.988    AED    0.2460    0.3810   \n",
       "22      Felbamate      0.2820         0.986    AED    0.1470    0.3620   \n",
       "25     Lacosamide      0.2480         0.984    AED    0.1270    0.3410   \n",
       "26   Fosphenytoin      0.2460         0.983    AED    0.1270    0.3300   \n",
       "27    Lamotrigine      0.2220         0.982    AED    0.1230    0.2890   \n",
       "28       Clobazam      0.2140         0.982    AED    0.1150    0.2840   \n",
       "33     Zonisamide      0.1270         0.979    AED    0.1030    0.2460   \n",
       "34  Levetiracetam      0.1230         0.978    AED    0.1020    0.2220   \n",
       "46  Phenobarbital      0.0971         0.970    AED    0.0814    0.1040   \n",
       "50    Amobarbital      0.0850         0.967    AED    0.0777    0.0995   \n",
       "62  Trimethadione      0.0701         0.960    AED    0.0554    0.0805   \n",
       "70  Acetazolamide      0.0527         0.954    AEP    0.0437    0.0692   \n",
       "84     Pregabalin      0.0347         0.945    AED    0.0327    0.0437   \n",
       "97     Rufinamide      0.0305         0.937    AED    0.0298    0.0327   \n",
       "\n",
       "      freq_?  freq_AED  freq_AEP   freq_IS  \n",
       "0   0.000000  1.000000  0.000000  0.000000  \n",
       "4   0.000000  1.000000  0.000000  0.000000  \n",
       "6   0.000000  1.000000  0.000000  0.000000  \n",
       "7   0.000000  1.000000  0.000000  0.000000  \n",
       "10  0.000000  1.000000  0.000000  0.000000  \n",
       "14  0.000000  1.000000  0.000000  0.000000  \n",
       "16  0.000000  1.000000  0.000000  0.000000  \n",
       "17  0.000000  0.933333  0.000000  0.066667  \n",
       "18  0.000000  0.933333  0.000000  0.066667  \n",
       "19  0.000000  0.933333  0.000000  0.066667  \n",
       "22  0.000000  0.933333  0.000000  0.066667  \n",
       "25  0.000000  0.933333  0.000000  0.066667  \n",
       "26  0.000000  0.933333  0.000000  0.066667  \n",
       "27  0.000000  0.933333  0.000000  0.066667  \n",
       "28  0.000000  0.933333  0.000000  0.066667  \n",
       "33  0.000000  1.000000  0.000000  0.000000  \n",
       "34  0.000000  1.000000  0.000000  0.000000  \n",
       "46  0.200000  0.800000  0.000000  0.000000  \n",
       "50  0.200000  0.800000  0.000000  0.000000  \n",
       "62  0.066667  0.600000  0.066667  0.266667  \n",
       "70  0.133333  0.333333  0.333333  0.200000  \n",
       "84  0.133333  0.200000  0.200000  0.466667  \n",
       "97  0.100000  0.400000  0.100000  0.400000  "
      ]
     },
     "execution_count": 13,
     "metadata": {},
     "output_type": "execute_result"
    }
   ],
   "source": [
    "plot_df.query(\"name in @aeds_in_phdb\")"
   ]
  }
 ],
 "metadata": {
  "anaconda-cloud": {},
  "kernelspec": {
   "display_name": "Python 3",
   "language": "python",
   "name": "python3"
  },
  "language_info": {
   "codemirror_mode": {
    "name": "ipython",
    "version": 3
   },
   "file_extension": ".py",
   "mimetype": "text/x-python",
   "name": "python",
   "nbconvert_exporter": "python",
   "pygments_lexer": "ipython3",
   "version": "3.4.5"
  }
 },
 "nbformat": 4,
 "nbformat_minor": 1
}
