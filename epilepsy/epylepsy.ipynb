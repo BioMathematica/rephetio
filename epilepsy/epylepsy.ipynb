{
 "cells": [
  {
   "cell_type": "markdown",
   "metadata": {},
   "source": [
    "# Python analysis of Project Rephetio epilepsy predictions"
   ]
  },
  {
   "cell_type": "code",
   "execution_count": 1,
   "metadata": {
    "collapsed": false
   },
   "outputs": [],
   "source": [
    "import pandas\n",
    "import collections"
   ]
  },
  {
   "cell_type": "code",
   "execution_count": 2,
   "metadata": {
    "collapsed": false
   },
   "outputs": [
    {
     "data": {
      "text/html": [
       "<div>\n",
       "<table border=\"1\" class=\"dataframe\">\n",
       "  <thead>\n",
       "    <tr style=\"text-align: right;\">\n",
       "      <th></th>\n",
       "      <th>name</th>\n",
       "      <th>prediction</th>\n",
       "      <th>disease_pctl</th>\n",
       "      <th>status</th>\n",
       "    </tr>\n",
       "  </thead>\n",
       "  <tbody>\n",
       "    <tr>\n",
       "      <th>0</th>\n",
       "      <td>Topiramate</td>\n",
       "      <td>0.603</td>\n",
       "      <td>1.000</td>\n",
       "      <td>AED</td>\n",
       "    </tr>\n",
       "    <tr>\n",
       "      <th>1</th>\n",
       "      <td>Ethotoin</td>\n",
       "      <td>0.589</td>\n",
       "      <td>0.999</td>\n",
       "      <td>AED</td>\n",
       "    </tr>\n",
       "  </tbody>\n",
       "</table>\n",
       "</div>"
      ],
      "text/plain": [
       "         name  prediction  disease_pctl status\n",
       "0  Topiramate       0.603         1.000    AED\n",
       "1    Ethotoin       0.589         0.999    AED"
      ]
     },
     "execution_count": 2,
     "metadata": {},
     "output_type": "execute_result"
    }
   ],
   "source": [
    "pk_df = (\n",
    "    pandas.read_excel('data/top-5-percent-PK-plots.xlsx', skiprows=1)\n",
    "    .iloc[:100, :11]\n",
    "    .rename(columns={'Name': 'name', 'Prediction score': 'prediction', 'Disease Pctl': 'disease_pctl'})\n",
    ")\n",
    "\n",
    "pk_df['status'] = (pk_df\n",
    "    [['AED', 'Anti-Epileptic properties', 'Induces seizure']]\n",
    "    .astype(int).max(axis='columns')\n",
    "    .map({4: 'AED', 3: 'AEP', 1: 'IS', 0: '?'})\n",
    ")\n",
    "\n",
    "pk_df = pk_df[['name', 'prediction', 'disease_pctl', 'status']]\n",
    "pk_df.head(2)"
   ]
  },
  {
   "cell_type": "code",
   "execution_count": 3,
   "metadata": {
    "collapsed": false
   },
   "outputs": [],
   "source": [
    "statuses = sorted(pk_df.status.unique())"
   ]
  },
  {
   "cell_type": "code",
   "execution_count": 4,
   "metadata": {
    "collapsed": false
   },
   "outputs": [],
   "source": [
    "def rolling_groups(df, k=5):\n",
    "    \"\"\"Yield rolling windows on dataframe\"\"\"\n",
    "    for i in range(len(df)):\n",
    "        start = max(0, i - k)\n",
    "        end = i + k + 1\n",
    "        yield df.iloc[start:end, :]\n",
    "\n",
    "def summarize_window(df):\n",
    "    s = pandas.Series()\n",
    "    s['min_pred'] = min(df.prediction)\n",
    "    s['max_pred'] = max(df.prediction)\n",
    "    counter = collections.Counter(df.status)\n",
    "    for status in statuses:\n",
    "        s['freq_' + status] = counter[status] / len(df)\n",
    "    return s\n",
    "\n",
    "rolling_df = pandas.DataFrame.from_records(\n",
    "    map(summarize_window, rolling_groups(pk_df, k=7))\n",
    ")"
   ]
  },
  {
   "cell_type": "code",
   "execution_count": 5,
   "metadata": {
    "collapsed": false
   },
   "outputs": [],
   "source": [
    "plot_df = pandas.concat([pk_df, rolling_df], axis='rows')"
   ]
  },
  {
   "cell_type": "code",
   "execution_count": 6,
   "metadata": {
    "collapsed": false
   },
   "outputs": [
    {
     "data": {
      "text/html": [
       "<div>\n",
       "<table border=\"1\" class=\"dataframe\">\n",
       "  <thead>\n",
       "    <tr style=\"text-align: right;\">\n",
       "      <th></th>\n",
       "      <th>name</th>\n",
       "      <th>prediction</th>\n",
       "      <th>disease_pctl</th>\n",
       "      <th>status</th>\n",
       "      <th>min_pred</th>\n",
       "      <th>max_pred</th>\n",
       "      <th>freq_?</th>\n",
       "      <th>freq_AED</th>\n",
       "      <th>freq_AEP</th>\n",
       "      <th>freq_IS</th>\n",
       "    </tr>\n",
       "  </thead>\n",
       "  <tbody>\n",
       "    <tr>\n",
       "      <th>95</th>\n",
       "      <td>Desipramine</td>\n",
       "      <td>0.0308</td>\n",
       "      <td>0.938</td>\n",
       "      <td>IS</td>\n",
       "      <td>0.0298</td>\n",
       "      <td>0.0330</td>\n",
       "      <td>0.166667</td>\n",
       "      <td>0.416667</td>\n",
       "      <td>0.083333</td>\n",
       "      <td>0.333333</td>\n",
       "    </tr>\n",
       "    <tr>\n",
       "      <th>96</th>\n",
       "      <td>Dabrafenib</td>\n",
       "      <td>0.0306</td>\n",
       "      <td>0.938</td>\n",
       "      <td>?</td>\n",
       "      <td>0.0298</td>\n",
       "      <td>0.0329</td>\n",
       "      <td>0.090909</td>\n",
       "      <td>0.454545</td>\n",
       "      <td>0.090909</td>\n",
       "      <td>0.363636</td>\n",
       "    </tr>\n",
       "    <tr>\n",
       "      <th>97</th>\n",
       "      <td>Rufinamide</td>\n",
       "      <td>0.0305</td>\n",
       "      <td>0.937</td>\n",
       "      <td>AED</td>\n",
       "      <td>0.0298</td>\n",
       "      <td>0.0327</td>\n",
       "      <td>0.100000</td>\n",
       "      <td>0.400000</td>\n",
       "      <td>0.100000</td>\n",
       "      <td>0.400000</td>\n",
       "    </tr>\n",
       "    <tr>\n",
       "      <th>98</th>\n",
       "      <td>Memantine</td>\n",
       "      <td>0.0303</td>\n",
       "      <td>0.936</td>\n",
       "      <td>IS</td>\n",
       "      <td>0.0298</td>\n",
       "      <td>0.0327</td>\n",
       "      <td>0.111111</td>\n",
       "      <td>0.444444</td>\n",
       "      <td>0.000000</td>\n",
       "      <td>0.444444</td>\n",
       "    </tr>\n",
       "    <tr>\n",
       "      <th>99</th>\n",
       "      <td>Zolpidem</td>\n",
       "      <td>0.0298</td>\n",
       "      <td>0.936</td>\n",
       "      <td>AED</td>\n",
       "      <td>0.0298</td>\n",
       "      <td>0.0325</td>\n",
       "      <td>0.125000</td>\n",
       "      <td>0.500000</td>\n",
       "      <td>0.000000</td>\n",
       "      <td>0.375000</td>\n",
       "    </tr>\n",
       "  </tbody>\n",
       "</table>\n",
       "</div>"
      ],
      "text/plain": [
       "           name  prediction  disease_pctl status  min_pred  max_pred  \\\n",
       "95  Desipramine      0.0308         0.938     IS    0.0298    0.0330   \n",
       "96   Dabrafenib      0.0306         0.938      ?    0.0298    0.0329   \n",
       "97   Rufinamide      0.0305         0.937    AED    0.0298    0.0327   \n",
       "98    Memantine      0.0303         0.936     IS    0.0298    0.0327   \n",
       "99     Zolpidem      0.0298         0.936    AED    0.0298    0.0325   \n",
       "\n",
       "      freq_?  freq_AED  freq_AEP   freq_IS  \n",
       "95  0.166667  0.416667  0.083333  0.333333  \n",
       "96  0.090909  0.454545  0.090909  0.363636  \n",
       "97  0.100000  0.400000  0.100000  0.400000  \n",
       "98  0.111111  0.444444  0.000000  0.444444  \n",
       "99  0.125000  0.500000  0.000000  0.375000  "
      ]
     },
     "execution_count": 6,
     "metadata": {},
     "output_type": "execute_result"
    }
   ],
   "source": [
    "plot_df.tail()"
   ]
  },
  {
   "cell_type": "code",
   "execution_count": 7,
   "metadata": {
    "collapsed": true
   },
   "outputs": [],
   "source": [
    "plot_df.to_csv('data/windows.tsv', sep='\\t', index=False, float_format='%.5g')"
   ]
  }
 ],
 "metadata": {
  "anaconda-cloud": {},
  "kernelspec": {
   "display_name": "Python [conda root]",
   "language": "python",
   "name": "conda-root-py"
  },
  "language_info": {
   "codemirror_mode": {
    "name": "ipython",
    "version": 3
   },
   "file_extension": ".py",
   "mimetype": "text/x-python",
   "name": "python",
   "nbconvert_exporter": "python",
   "pygments_lexer": "ipython3",
   "version": "3.5.2"
  }
 },
 "nbformat": 4,
 "nbformat_minor": 1
}
