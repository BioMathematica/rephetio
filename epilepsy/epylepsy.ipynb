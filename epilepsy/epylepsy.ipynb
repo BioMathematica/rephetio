{
 "cells": [
  {
   "cell_type": "markdown",
   "metadata": {},
   "source": [
    "# Python analysis of Project Rephetio epilepsy predictions"
   ]
  },
  {
   "cell_type": "code",
   "execution_count": 1,
   "metadata": {
    "collapsed": false
   },
   "outputs": [],
   "source": [
    "import pandas\n",
    "import collections"
   ]
  },
  {
   "cell_type": "code",
   "execution_count": 2,
   "metadata": {
    "collapsed": false,
    "scrolled": false
   },
   "outputs": [
    {
     "data": {
      "text/html": [
       "<div>\n",
       "<table border=\"1\" class=\"dataframe\">\n",
       "  <thead>\n",
       "    <tr style=\"text-align: right;\">\n",
       "      <th></th>\n",
       "      <th>name</th>\n",
       "      <th>prediction</th>\n",
       "      <th>disease_pctl</th>\n",
       "      <th>phcodb</th>\n",
       "      <th>trials</th>\n",
       "      <th>category</th>\n",
       "      <th>comment</th>\n",
       "      <th>sources</th>\n",
       "    </tr>\n",
       "  </thead>\n",
       "  <tbody>\n",
       "    <tr>\n",
       "      <th>0</th>\n",
       "      <td>Topiramate</td>\n",
       "      <td>0.603</td>\n",
       "      <td>1.0000</td>\n",
       "      <td>DM</td>\n",
       "      <td>35</td>\n",
       "      <td>AIGD</td>\n",
       "      <td>NaN</td>\n",
       "      <td>NaN</td>\n",
       "    </tr>\n",
       "    <tr>\n",
       "      <th>1</th>\n",
       "      <td>Ethotoin</td>\n",
       "      <td>0.589</td>\n",
       "      <td>0.9993</td>\n",
       "      <td>NaN</td>\n",
       "      <td>0</td>\n",
       "      <td>AIGD</td>\n",
       "      <td>NaN</td>\n",
       "      <td>NaN</td>\n",
       "    </tr>\n",
       "    <tr>\n",
       "      <th>2</th>\n",
       "      <td>Quazepam</td>\n",
       "      <td>0.570</td>\n",
       "      <td>0.9987</td>\n",
       "      <td>NaN</td>\n",
       "      <td>0</td>\n",
       "      <td>AIGD</td>\n",
       "      <td>NaN</td>\n",
       "      <td>NaN</td>\n",
       "    </tr>\n",
       "    <tr>\n",
       "      <th>3</th>\n",
       "      <td>Alprazolam</td>\n",
       "      <td>0.565</td>\n",
       "      <td>0.9980</td>\n",
       "      <td>NaN</td>\n",
       "      <td>1</td>\n",
       "      <td>AIGD</td>\n",
       "      <td>NaN</td>\n",
       "      <td>NaN</td>\n",
       "    </tr>\n",
       "    <tr>\n",
       "      <th>4</th>\n",
       "      <td>Primidone</td>\n",
       "      <td>0.494</td>\n",
       "      <td>0.9974</td>\n",
       "      <td>DM</td>\n",
       "      <td>0</td>\n",
       "      <td>AIGD</td>\n",
       "      <td>NaN</td>\n",
       "      <td>NaN</td>\n",
       "    </tr>\n",
       "  </tbody>\n",
       "</table>\n",
       "</div>"
      ],
      "text/plain": [
       "         name  prediction  disease_pctl phcodb  trials category comment  \\\n",
       "0  Topiramate       0.603        1.0000     DM      35     AIGD     NaN   \n",
       "1    Ethotoin       0.589        0.9993    NaN       0     AIGD     NaN   \n",
       "2    Quazepam       0.570        0.9987    NaN       0     AIGD     NaN   \n",
       "3  Alprazolam       0.565        0.9980    NaN       1     AIGD     NaN   \n",
       "4   Primidone       0.494        0.9974     DM       0     AIGD     NaN   \n",
       "\n",
       "  sources  \n",
       "0     NaN  \n",
       "1     NaN  \n",
       "2     NaN  \n",
       "3     NaN  \n",
       "4     NaN  "
      ]
     },
     "execution_count": 2,
     "metadata": {},
     "output_type": "execute_result"
    }
   ],
   "source": [
    "# Download PK (Pouya Khankhanian) curation from Google Docs\n",
    "doc_id = '1GJvqWp7WkMyboJ49Hts4eSOQCdJc_rcQenmqPLk6Bsw'\n",
    "url = 'https://docs.google.com/spreadsheets/d/{}/export?format=tsv'.format(doc_id)\n",
    "pk_df = (\n",
    "    pandas.read_table(url)\n",
    "    .dropna(subset=['category'])\n",
    "    .reset_index(drop=True)\n",
    ")\n",
    "pk_df.head()"
   ]
  },
  {
   "cell_type": "code",
   "execution_count": 3,
   "metadata": {
    "collapsed": false
   },
   "outputs": [
    {
     "data": {
      "text/plain": [
       "100"
      ]
     },
     "execution_count": 3,
     "metadata": {},
     "output_type": "execute_result"
    }
   ],
   "source": [
    "len(pk_df)"
   ]
  },
  {
   "cell_type": "code",
   "execution_count": 4,
   "metadata": {
    "collapsed": true
   },
   "outputs": [],
   "source": [
    "# Export to TSV\n",
    "pk_df.to_csv('data/PK-curation.tsv', sep='\\t', index=False, float_format='%.5g')"
   ]
  },
  {
   "cell_type": "code",
   "execution_count": 5,
   "metadata": {
    "collapsed": false
   },
   "outputs": [
    {
     "data": {
      "text/plain": [
       "['AIGD', 'IGD', 'UNKD']"
      ]
     },
     "execution_count": 5,
     "metadata": {},
     "output_type": "execute_result"
    }
   ],
   "source": [
    "statuses = sorted(pk_df.category.unique())\n",
    "statuses"
   ]
  },
  {
   "cell_type": "code",
   "execution_count": 6,
   "metadata": {
    "collapsed": false
   },
   "outputs": [],
   "source": [
    "def rolling_groups(df, k=5):\n",
    "    \"\"\"Yield rolling windows on dataframe\"\"\"\n",
    "    for i in range(len(df)):\n",
    "        start = max(0, i - k)\n",
    "        end = i + k + 1\n",
    "        yield df.iloc[start:end, :]\n",
    "\n",
    "def summarize_window(df):\n",
    "    s = pandas.Series()\n",
    "    s['min_pred'] = min(df.prediction)\n",
    "    s['max_pred'] = max(df.prediction)\n",
    "    counter = collections.Counter(df.category)\n",
    "    for status in statuses:\n",
    "        s['freq_' + status] = counter[status] / len(df)\n",
    "    return s\n",
    "\n",
    "rolling_df = pandas.DataFrame.from_records(\n",
    "    map(summarize_window, rolling_groups(pk_df, k=7))\n",
    ")"
   ]
  },
  {
   "cell_type": "code",
   "execution_count": 7,
   "metadata": {
    "collapsed": false
   },
   "outputs": [
    {
     "data": {
      "text/html": [
       "<div>\n",
       "<table border=\"1\" class=\"dataframe\">\n",
       "  <thead>\n",
       "    <tr style=\"text-align: right;\">\n",
       "      <th></th>\n",
       "      <th>name</th>\n",
       "      <th>prediction</th>\n",
       "      <th>disease_pctl</th>\n",
       "      <th>phcodb</th>\n",
       "      <th>trials</th>\n",
       "      <th>category</th>\n",
       "      <th>min_pred</th>\n",
       "      <th>max_pred</th>\n",
       "      <th>freq_AIGD</th>\n",
       "      <th>freq_IGD</th>\n",
       "      <th>freq_UNKD</th>\n",
       "    </tr>\n",
       "  </thead>\n",
       "  <tbody>\n",
       "    <tr>\n",
       "      <th>95</th>\n",
       "      <td>Dabrafenib</td>\n",
       "      <td>0.0306</td>\n",
       "      <td>0.9376</td>\n",
       "      <td>NaN</td>\n",
       "      <td>0</td>\n",
       "      <td>UNKD</td>\n",
       "      <td>0.0296</td>\n",
       "      <td>0.0329</td>\n",
       "      <td>0.500000</td>\n",
       "      <td>0.333333</td>\n",
       "      <td>0.166667</td>\n",
       "    </tr>\n",
       "    <tr>\n",
       "      <th>96</th>\n",
       "      <td>Rufinamide</td>\n",
       "      <td>0.0305</td>\n",
       "      <td>0.9369</td>\n",
       "      <td>DM</td>\n",
       "      <td>0</td>\n",
       "      <td>AIGD</td>\n",
       "      <td>0.0296</td>\n",
       "      <td>0.0327</td>\n",
       "      <td>0.454545</td>\n",
       "      <td>0.363636</td>\n",
       "      <td>0.181818</td>\n",
       "    </tr>\n",
       "    <tr>\n",
       "      <th>97</th>\n",
       "      <td>Memantine</td>\n",
       "      <td>0.0303</td>\n",
       "      <td>0.9363</td>\n",
       "      <td>NaN</td>\n",
       "      <td>2</td>\n",
       "      <td>IGD</td>\n",
       "      <td>0.0296</td>\n",
       "      <td>0.0327</td>\n",
       "      <td>0.400000</td>\n",
       "      <td>0.400000</td>\n",
       "      <td>0.200000</td>\n",
       "    </tr>\n",
       "    <tr>\n",
       "      <th>98</th>\n",
       "      <td>Zolpidem</td>\n",
       "      <td>0.0298</td>\n",
       "      <td>0.9356</td>\n",
       "      <td>NaN</td>\n",
       "      <td>0</td>\n",
       "      <td>AIGD</td>\n",
       "      <td>0.0296</td>\n",
       "      <td>0.0325</td>\n",
       "      <td>0.444444</td>\n",
       "      <td>0.333333</td>\n",
       "      <td>0.222222</td>\n",
       "    </tr>\n",
       "    <tr>\n",
       "      <th>99</th>\n",
       "      <td>Acamprosate</td>\n",
       "      <td>0.0296</td>\n",
       "      <td>0.9350</td>\n",
       "      <td>NaN</td>\n",
       "      <td>0</td>\n",
       "      <td>UNKD</td>\n",
       "      <td>0.0296</td>\n",
       "      <td>0.0324</td>\n",
       "      <td>0.500000</td>\n",
       "      <td>0.250000</td>\n",
       "      <td>0.250000</td>\n",
       "    </tr>\n",
       "  </tbody>\n",
       "</table>\n",
       "</div>"
      ],
      "text/plain": [
       "           name  prediction  disease_pctl phcodb  trials category  min_pred  \\\n",
       "95   Dabrafenib      0.0306        0.9376    NaN       0     UNKD    0.0296   \n",
       "96   Rufinamide      0.0305        0.9369     DM       0     AIGD    0.0296   \n",
       "97    Memantine      0.0303        0.9363    NaN       2      IGD    0.0296   \n",
       "98     Zolpidem      0.0298        0.9356    NaN       0     AIGD    0.0296   \n",
       "99  Acamprosate      0.0296        0.9350    NaN       0     UNKD    0.0296   \n",
       "\n",
       "    max_pred  freq_AIGD  freq_IGD  freq_UNKD  \n",
       "95    0.0329   0.500000  0.333333   0.166667  \n",
       "96    0.0327   0.454545  0.363636   0.181818  \n",
       "97    0.0327   0.400000  0.400000   0.200000  \n",
       "98    0.0325   0.444444  0.333333   0.222222  \n",
       "99    0.0324   0.500000  0.250000   0.250000  "
      ]
     },
     "execution_count": 7,
     "metadata": {},
     "output_type": "execute_result"
    }
   ],
   "source": [
    "plot_df = pandas.concat([pk_df.loc[:, 'name':'category'], rolling_df], axis='rows')\n",
    "plot_df.tail()"
   ]
  },
  {
   "cell_type": "code",
   "execution_count": 8,
   "metadata": {
    "collapsed": true
   },
   "outputs": [],
   "source": [
    "plot_df.to_csv('data/windows.tsv', sep='\\t', index=False, float_format='%.5g')"
   ]
  },
  {
   "cell_type": "markdown",
   "metadata": {},
   "source": [
    "## Stats"
   ]
  },
  {
   "cell_type": "code",
   "execution_count": 9,
   "metadata": {
    "collapsed": false
   },
   "outputs": [
    {
     "data": {
      "text/plain": [
       "100"
      ]
     },
     "execution_count": 9,
     "metadata": {},
     "output_type": "execute_result"
    }
   ],
   "source": [
    "len(plot_df)"
   ]
  },
  {
   "cell_type": "code",
   "execution_count": 10,
   "metadata": {
    "collapsed": false
   },
   "outputs": [
    {
     "data": {
      "text/plain": [
       "AIGD    77\n",
       "IGD     15\n",
       "UNKD     8\n",
       "Name: category, dtype: int64"
      ]
     },
     "execution_count": 10,
     "metadata": {},
     "output_type": "execute_result"
    }
   ],
   "source": [
    "plot_df.category.value_counts()"
   ]
  },
  {
   "cell_type": "code",
   "execution_count": 11,
   "metadata": {
    "collapsed": false
   },
   "outputs": [
    {
     "data": {
      "text/plain": [
       "25"
      ]
     },
     "execution_count": 11,
     "metadata": {},
     "output_type": "execute_result"
    }
   ],
   "source": [
    "url = 'https://github.com/dhimmel/learn/raw/d2251a942813015d0362a90f179c961016336e77/summary/indications.tsv'\n",
    "aeds_in_phcodb = (\n",
    "    pandas.read_table(url)\n",
    "    .query(\"rel_type == 'TREATS_CtD'\")\n",
    "    .query(\"disease_id == 'DOID:1826'\")\n",
    "    .compound_name\n",
    "    .tolist()\n",
    ")\n",
    "# Number of disease-modifying antiepileptics in PharmacotherapyDB\n",
    "len(set(aeds_in_phcodb))"
   ]
  },
  {
   "cell_type": "code",
   "execution_count": 12,
   "metadata": {
    "collapsed": false
   },
   "outputs": [
    {
     "data": {
      "text/plain": [
       "23"
      ]
     },
     "execution_count": 12,
     "metadata": {},
     "output_type": "execute_result"
    }
   ],
   "source": [
    "# Number of disease-modifying antiepileptics from PharmacotherapyDB in top 100 predictions\n",
    "len(set(aeds_in_phcodb) & set(plot_df.name))"
   ]
  },
  {
   "cell_type": "code",
   "execution_count": 13,
   "metadata": {
    "collapsed": false
   },
   "outputs": [
    {
     "data": {
      "text/plain": [
       "{'Propofol', 'Vigabatrin'}"
      ]
     },
     "execution_count": 13,
     "metadata": {},
     "output_type": "execute_result"
    }
   ],
   "source": [
    "# Disease-modifying antiepileptics from PharmacotherapyDB not in top 100 predictions\n",
    "set(aeds_in_phcodb) - set(plot_df.name)"
   ]
  }
 ],
 "metadata": {
  "anaconda-cloud": {},
  "kernelspec": {
   "display_name": "Python [default]",
   "language": "python",
   "name": "python3"
  },
  "language_info": {
   "codemirror_mode": {
    "name": "ipython",
    "version": 3
   },
   "file_extension": ".py",
   "mimetype": "text/x-python",
   "name": "python",
   "nbconvert_exporter": "python",
   "pygments_lexer": "ipython3",
   "version": "3.5.2"
  }
 },
 "nbformat": 4,
 "nbformat_minor": 1
}
