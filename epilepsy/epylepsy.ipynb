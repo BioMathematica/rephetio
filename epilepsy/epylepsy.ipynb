{
 "cells": [
  {
   "cell_type": "markdown",
   "metadata": {},
   "source": [
    "# Python analysis of Project Rephetio epilepsy predictions"
   ]
  },
  {
   "cell_type": "code",
   "execution_count": 1,
   "metadata": {
    "collapsed": false
   },
   "outputs": [],
   "source": [
    "import pandas"
   ]
  },
  {
   "cell_type": "code",
   "execution_count": 2,
   "metadata": {
    "collapsed": false
   },
   "outputs": [
    {
     "data": {
      "text/html": [
       "<div>\n",
       "<table border=\"1\" class=\"dataframe\">\n",
       "  <thead>\n",
       "    <tr style=\"text-align: right;\">\n",
       "      <th></th>\n",
       "      <th>Name</th>\n",
       "      <th>Prediction score</th>\n",
       "      <th>Compound Pctl</th>\n",
       "      <th>status</th>\n",
       "    </tr>\n",
       "  </thead>\n",
       "  <tbody>\n",
       "    <tr>\n",
       "      <th>0</th>\n",
       "      <td>Topiramate</td>\n",
       "      <td>0.603</td>\n",
       "      <td>1.0</td>\n",
       "      <td>AED</td>\n",
       "    </tr>\n",
       "    <tr>\n",
       "      <th>1</th>\n",
       "      <td>Ethotoin</td>\n",
       "      <td>0.589</td>\n",
       "      <td>1.0</td>\n",
       "      <td>AED</td>\n",
       "    </tr>\n",
       "  </tbody>\n",
       "</table>\n",
       "</div>"
      ],
      "text/plain": [
       "         Name  Prediction score  Compound Pctl status\n",
       "0  Topiramate             0.603            1.0    AED\n",
       "1    Ethotoin             0.589            1.0    AED"
      ]
     },
     "execution_count": 2,
     "metadata": {},
     "output_type": "execute_result"
    }
   ],
   "source": [
    "pk_df = (\n",
    "    pandas.read_excel('data/top-5-percent-PK-plots.xlsx', skiprows=1)\n",
    "    .iloc[:100, :11]\n",
    ")\n",
    "\n",
    "pk_df['status'] = (pk_df\n",
    "    [['AED', 'Anti-Epileptic properties', 'Induces seizure']]\n",
    "    .astype(int).max(axis='columns')\n",
    "    .map({4: 'AED', 3: 'AEP', 1: 'IS', 0: 'other'})\n",
    ")\n",
    "\n",
    "pk_df = pk_df[['Name', 'Prediction score', 'Compound Pctl', 'status']]\n",
    "pk_df.head(2)"
   ]
  },
  {
   "cell_type": "code",
   "execution_count": 3,
   "metadata": {
    "collapsed": false
   },
   "outputs": [],
   "source": [
    "#pk_df.rolling(window=11, min_periods=5, center=True)"
   ]
  }
 ],
 "metadata": {
  "kernelspec": {
   "display_name": "Python [conda root]",
   "language": "python",
   "name": "conda-root-py"
  },
  "language_info": {
   "codemirror_mode": {
    "name": "ipython",
    "version": 3
   },
   "file_extension": ".py",
   "mimetype": "text/x-python",
   "name": "python",
   "nbconvert_exporter": "python",
   "pygments_lexer": "ipython3",
   "version": "3.4.5"
  }
 },
 "nbformat": 4,
 "nbformat_minor": 1
}
