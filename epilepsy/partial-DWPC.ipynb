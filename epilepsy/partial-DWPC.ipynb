{
 "cells": [
  {
   "cell_type": "markdown",
   "metadata": {},
   "source": [
    "# Source edge contribution to epilepsy predictions"
   ]
  },
  {
   "cell_type": "code",
   "execution_count": 1,
   "metadata": {
    "collapsed": false
   },
   "outputs": [],
   "source": [
    "import functools\n",
    "\n",
    "import pandas\n",
    "import requests\n",
    "\n",
    "from neo4j.v1 import GraphDatabase"
   ]
  },
  {
   "cell_type": "code",
   "execution_count": 2,
   "metadata": {
    "collapsed": false
   },
   "outputs": [],
   "source": [
    "url = 'https://github.com/dhimmel/learn/raw/d2251a942813015d0362a90f179c961016336e77/summary/compounds.tsv'\n",
    "compound_df = pandas.read_table(url)[['compound_id', 'compound_name']]"
   ]
  },
  {
   "cell_type": "code",
   "execution_count": 3,
   "metadata": {
    "collapsed": false
   },
   "outputs": [
    {
     "data": {
      "text/html": [
       "<div>\n",
       "<table border=\"1\" class=\"dataframe\">\n",
       "  <thead>\n",
       "    <tr style=\"text-align: right;\">\n",
       "      <th></th>\n",
       "      <th>compound_name</th>\n",
       "      <th>prediction</th>\n",
       "      <th>disease_pctl</th>\n",
       "      <th>phcodb</th>\n",
       "      <th>trials</th>\n",
       "      <th>category</th>\n",
       "      <th>min_pred</th>\n",
       "      <th>max_pred</th>\n",
       "      <th>freq_AIGD</th>\n",
       "      <th>freq_IGD</th>\n",
       "      <th>freq_UNKD</th>\n",
       "      <th>compound_id</th>\n",
       "    </tr>\n",
       "  </thead>\n",
       "  <tbody>\n",
       "    <tr>\n",
       "      <th>0</th>\n",
       "      <td>Topiramate</td>\n",
       "      <td>0.603</td>\n",
       "      <td>1.0000</td>\n",
       "      <td>DM</td>\n",
       "      <td>35</td>\n",
       "      <td>AIGD</td>\n",
       "      <td>0.460</td>\n",
       "      <td>0.603</td>\n",
       "      <td>1.0</td>\n",
       "      <td>0.0</td>\n",
       "      <td>0.0</td>\n",
       "      <td>DB00273</td>\n",
       "    </tr>\n",
       "    <tr>\n",
       "      <th>1</th>\n",
       "      <td>Ethotoin</td>\n",
       "      <td>0.589</td>\n",
       "      <td>0.9993</td>\n",
       "      <td>NaN</td>\n",
       "      <td>0</td>\n",
       "      <td>AIGD</td>\n",
       "      <td>0.434</td>\n",
       "      <td>0.603</td>\n",
       "      <td>1.0</td>\n",
       "      <td>0.0</td>\n",
       "      <td>0.0</td>\n",
       "      <td>DB00754</td>\n",
       "    </tr>\n",
       "  </tbody>\n",
       "</table>\n",
       "</div>"
      ],
      "text/plain": [
       "  compound_name  prediction  disease_pctl phcodb  trials category  min_pred  \\\n",
       "0    Topiramate       0.603        1.0000     DM      35     AIGD     0.460   \n",
       "1      Ethotoin       0.589        0.9993    NaN       0     AIGD     0.434   \n",
       "\n",
       "   max_pred  freq_AIGD  freq_IGD  freq_UNKD compound_id  \n",
       "0     0.603        1.0       0.0        0.0     DB00273  \n",
       "1     0.603        1.0       0.0        0.0     DB00754  "
      ]
     },
     "execution_count": 3,
     "metadata": {},
     "output_type": "execute_result"
    }
   ],
   "source": [
    "top_compounds_df = (pandas.read_table('./data/windows.tsv')\n",
    "    .rename(columns={'name': 'compound_name'})\n",
    "    .merge(compound_df)\n",
    ")\n",
    "top_compounds_df.head(2)"
   ]
  },
  {
   "cell_type": "code",
   "execution_count": 4,
   "metadata": {
    "collapsed": false
   },
   "outputs": [],
   "source": [
    "url = 'https://github.com/dhimmel/learn/raw/d2251a942813015d0362a90f179c961016336e77/all-features/data/metapaths.json'\n",
    "metapaths = requests.get(url).json()\n",
    "metapath_to_cypher = {m['abbreviation']: m['dwpc_query'] for m in metapaths}\n",
    "metapath_to_first_metaedge = {m['abbreviation']: m['edges'][0].split(' - ')[1] for m in metapaths}\n",
    "\n",
    "template = '''\n",
    "{head}, n0, n1\n",
    "RETURN\n",
    "  n0.identifier AS n0_id,\n",
    "  type(head(relationships(path))) AS e1_type,\n",
    "  n1.identifier AS n1_id,\n",
    "  n0.name AS n0_name,\n",
    "  n1.name AS n1_name,\n",
    "{tail}\n",
    "'''\n",
    "\n",
    "@functools.lru_cache()\n",
    "def get_dwpc_query(metapath):\n",
    "    \"\"\"\n",
    "    Get a first-edge specific DWPC query for a given metapath abbreviation.\n",
    "    \"\"\"\n",
    "    dwpc_cypher = metapath_to_cypher[metapath]\n",
    "    cypher_head, cypher_tail = dwpc_cypher.split('RETURN')\n",
    "    cypher = template.format(head=cypher_head.rstrip(), tail=cypher_tail.lstrip())\n",
    "    return cypher"
   ]
  },
  {
   "cell_type": "code",
   "execution_count": 5,
   "metadata": {
    "collapsed": false
   },
   "outputs": [],
   "source": [
    "driver = GraphDatabase.driver(\"bolt://neo4j.het.io\")\n",
    "session = driver.session()"
   ]
  },
  {
   "cell_type": "code",
   "execution_count": 6,
   "metadata": {
    "collapsed": true
   },
   "outputs": [],
   "source": [
    "def run_query(compound_id, disease_id, metapath, contribution=0):\n",
    "    query = get_dwpc_query(metapath)\n",
    "    parameters = {\n",
    "        'source': compound_id,\n",
    "        'target': disease_id,\n",
    "        'w': 0.4,\n",
    "    }\n",
    "    result = session.run(query, parameters)\n",
    "    result_df = pandas.DataFrame((x.values() for x in result), columns=result.keys())\n",
    "    result_df.insert(0, 'metapath', metapath)\n",
    "    result_df['prediction_contrib'] = contribution * result_df.DWPC / result_df.DWPC.sum()\n",
    "    metaedge = metapath_to_first_metaedge[metapath]\n",
    "    result_df['relationship'] = result_df.n0_name + '—' + metaedge + '—' + result_df.n1_name\n",
    "    return result_df"
   ]
  },
  {
   "cell_type": "code",
   "execution_count": 7,
   "metadata": {
    "collapsed": false,
    "scrolled": true
   },
   "outputs": [],
   "source": [
    "disease_id = 'DOID:1826'\n",
    "leadoff_dfs = list()\n",
    "for compound_id in top_compounds_df.compound_id:\n",
    "    url = 'https://github.com/dhimmel/het.io-rep-data/raw/{commit}/prediction-info/{compound_id}/{disease_webid}/info.json'.format(\n",
    "        commit = '1a960f0e353586f8fe9f61b569919f24603d4344',\n",
    "        compound_id = compound_id,\n",
    "        disease_webid = disease_id.replace(':', '_'),\n",
    "    )\n",
    "    info = requests.get(url).json()\n",
    "    dfs = list()\n",
    "    for metapath, contribution in info['metapath_contribution'].items():\n",
    "        df = run_query(compound_id, disease_id, metapath, contribution)\n",
    "        dfs.append(df)\n",
    "    leadoff_df = pandas.concat(dfs)\n",
    "    leadoff_df = leadoff_df.groupby(['relationship', 'n1_id',]).sum().reset_index().drop('DWPC', axis=1).sort_values('prediction_contrib', ascending=False)\n",
    "    leadoff_dfs.append(leadoff_df)"
   ]
  },
  {
   "cell_type": "code",
   "execution_count": 58,
   "metadata": {
    "collapsed": false
   },
   "outputs": [
    {
     "data": {
      "text/html": [
       "<div>\n",
       "<table border=\"1\" class=\"dataframe\">\n",
       "  <thead>\n",
       "    <tr style=\"text-align: right;\">\n",
       "      <th></th>\n",
       "      <th>relationship</th>\n",
       "      <th>n1_id</th>\n",
       "      <th>PC</th>\n",
       "      <th>prediction_contrib</th>\n",
       "    </tr>\n",
       "  </thead>\n",
       "  <tbody>\n",
       "    <tr>\n",
       "      <th>132</th>\n",
       "      <td>Lorazepam—includes—Benzodiazepines</td>\n",
       "      <td>N0000007542</td>\n",
       "      <td>4</td>\n",
       "      <td>0.266422</td>\n",
       "    </tr>\n",
       "    <tr>\n",
       "      <th>133</th>\n",
       "      <td>Lorazepam—palliates—panic disorder</td>\n",
       "      <td>DOID:594</td>\n",
       "      <td>2</td>\n",
       "      <td>0.111977</td>\n",
       "    </tr>\n",
       "    <tr>\n",
       "      <th>2</th>\n",
       "      <td>Lorazepam—binds—GABRG2</td>\n",
       "      <td>2566</td>\n",
       "      <td>208</td>\n",
       "      <td>0.082644</td>\n",
       "    </tr>\n",
       "    <tr>\n",
       "      <th>0</th>\n",
       "      <td>Lorazepam—binds—GABRA1</td>\n",
       "      <td>2554</td>\n",
       "      <td>243</td>\n",
       "      <td>0.071962</td>\n",
       "    </tr>\n",
       "    <tr>\n",
       "      <th>142</th>\n",
       "      <td>Lorazepam—resembles—Clonazepam</td>\n",
       "      <td>DB01068</td>\n",
       "      <td>7</td>\n",
       "      <td>0.067994</td>\n",
       "    </tr>\n",
       "  </tbody>\n",
       "</table>\n",
       "</div>"
      ],
      "text/plain": [
       "                           relationship        n1_id   PC  prediction_contrib\n",
       "132  Lorazepam—includes—Benzodiazepines  N0000007542    4            0.266422\n",
       "133  Lorazepam—palliates—panic disorder     DOID:594    2            0.111977\n",
       "2                Lorazepam—binds—GABRG2         2566  208            0.082644\n",
       "0                Lorazepam—binds—GABRA1         2554  243            0.071962\n",
       "142      Lorazepam—resembles—Clonazepam      DB01068    7            0.067994"
      ]
     },
     "execution_count": 58,
     "metadata": {},
     "output_type": "execute_result"
    }
   ],
   "source": [
    "leadoff_dfs[5].head(5)"
   ]
  },
  {
   "cell_type": "code",
   "execution_count": 59,
   "metadata": {
    "collapsed": false
   },
   "outputs": [
    {
     "data": {
      "text/html": [
       "<div>\n",
       "<table border=\"1\" class=\"dataframe\">\n",
       "  <thead>\n",
       "    <tr style=\"text-align: right;\">\n",
       "      <th></th>\n",
       "      <th>relationship</th>\n",
       "      <th>PC</th>\n",
       "      <th>prediction_contrib</th>\n",
       "    </tr>\n",
       "  </thead>\n",
       "  <tbody>\n",
       "    <tr>\n",
       "      <th>1437</th>\n",
       "      <td>Compound—includes—Decreased Central Nervous Sy...</td>\n",
       "      <td>238</td>\n",
       "      <td>6.340446</td>\n",
       "    </tr>\n",
       "    <tr>\n",
       "      <th>1429</th>\n",
       "      <td>Compound—includes—Benzodiazepines</td>\n",
       "      <td>52</td>\n",
       "      <td>3.844670</td>\n",
       "    </tr>\n",
       "    <tr>\n",
       "      <th>104</th>\n",
       "      <td>Compound—binds—GABRA1</td>\n",
       "      <td>12385</td>\n",
       "      <td>2.819158</td>\n",
       "    </tr>\n",
       "    <tr>\n",
       "      <th>1519</th>\n",
       "      <td>Compound—resembles—Diazepam</td>\n",
       "      <td>402</td>\n",
       "      <td>2.708444</td>\n",
       "    </tr>\n",
       "    <tr>\n",
       "      <th>1438</th>\n",
       "      <td>Compound—includes—General Anesthesia</td>\n",
       "      <td>6</td>\n",
       "      <td>2.456720</td>\n",
       "    </tr>\n",
       "  </tbody>\n",
       "</table>\n",
       "</div>"
      ],
      "text/plain": [
       "                                           relationship     PC  \\\n",
       "1437  Compound—includes—Decreased Central Nervous Sy...    238   \n",
       "1429                  Compound—includes—Benzodiazepines     52   \n",
       "104                               Compound—binds—GABRA1  12385   \n",
       "1519                        Compound—resembles—Diazepam    402   \n",
       "1438               Compound—includes—General Anesthesia      6   \n",
       "\n",
       "      prediction_contrib  \n",
       "1437            6.340446  \n",
       "1429            3.844670  \n",
       "104             2.819158  \n",
       "1519            2.708444  \n",
       "1438            2.456720  "
      ]
     },
     "execution_count": 59,
     "metadata": {},
     "output_type": "execute_result"
    }
   ],
   "source": [
    "total_df = pandas.concat(leadoff_dfs)\n",
    "total_df = total_df.groupby(total_df.relationship.map(lambda x: 'Compound—' + x.split('—', 1)[1])).sum().reset_index().sort_values('prediction_contrib', ascending=False)\n",
    "total_df.head(5)"
   ]
  },
  {
   "cell_type": "code",
   "execution_count": 60,
   "metadata": {
    "collapsed": false
   },
   "outputs": [
    {
     "data": {
      "text/plain": [
       "1667"
      ]
     },
     "execution_count": 60,
     "metadata": {},
     "output_type": "execute_result"
    }
   ],
   "source": [
    "total_df.to_csv('data/source-edges-combined.tsv', sep='\\t', index=False)\n",
    "len(total_df)"
   ]
  },
  {
   "cell_type": "code",
   "execution_count": 61,
   "metadata": {
    "collapsed": true
   },
   "outputs": [],
   "source": [
    "session.close()"
   ]
  }
 ],
 "metadata": {
  "anaconda-cloud": {},
  "kernelspec": {
   "display_name": "Python [default]",
   "language": "python",
   "name": "python3"
  },
  "language_info": {
   "codemirror_mode": {
    "name": "ipython",
    "version": 3
   },
   "file_extension": ".py",
   "mimetype": "text/x-python",
   "name": "python",
   "nbconvert_exporter": "python",
   "pygments_lexer": "ipython3",
   "version": "3.5.2"
  }
 },
 "nbformat": 4,
 "nbformat_minor": 1
}
