{
 "cells": [
  {
   "cell_type": "markdown",
   "metadata": {},
   "source": [
    "# Collapsed source/target edge contributions to epilepsy predictions"
   ]
  },
  {
   "cell_type": "code",
   "execution_count": 1,
   "metadata": {
    "collapsed": false
   },
   "outputs": [],
   "source": [
    "import pandas"
   ]
  },
  {
   "cell_type": "code",
   "execution_count": 2,
   "metadata": {
    "collapsed": false
   },
   "outputs": [],
   "source": [
    "url = 'https://github.com/dhimmel/learn/raw/d2251a942813015d0362a90f179c961016336e77/summary/compounds.tsv'\n",
    "compound_df = pandas.read_table(url)[['compound_id', 'compound_name']]"
   ]
  },
  {
   "cell_type": "code",
   "execution_count": 3,
   "metadata": {
    "collapsed": false
   },
   "outputs": [
    {
     "data": {
      "text/html": [
       "<div>\n",
       "<table border=\"1\" class=\"dataframe\">\n",
       "  <thead>\n",
       "    <tr style=\"text-align: right;\">\n",
       "      <th></th>\n",
       "      <th>compound_name</th>\n",
       "      <th>prediction</th>\n",
       "      <th>disease_pctl</th>\n",
       "      <th>phcodb</th>\n",
       "      <th>trials</th>\n",
       "      <th>category</th>\n",
       "      <th>min_pred</th>\n",
       "      <th>max_pred</th>\n",
       "      <th>freq_AIGD</th>\n",
       "      <th>freq_IGD</th>\n",
       "      <th>freq_UNKD</th>\n",
       "      <th>compound_id</th>\n",
       "    </tr>\n",
       "  </thead>\n",
       "  <tbody>\n",
       "    <tr>\n",
       "      <th>0</th>\n",
       "      <td>Topiramate</td>\n",
       "      <td>0.603</td>\n",
       "      <td>1.0000</td>\n",
       "      <td>DM</td>\n",
       "      <td>35</td>\n",
       "      <td>AIGD</td>\n",
       "      <td>0.460</td>\n",
       "      <td>0.603</td>\n",
       "      <td>1.0</td>\n",
       "      <td>0.0</td>\n",
       "      <td>0.0</td>\n",
       "      <td>DB00273</td>\n",
       "    </tr>\n",
       "    <tr>\n",
       "      <th>1</th>\n",
       "      <td>Ethotoin</td>\n",
       "      <td>0.589</td>\n",
       "      <td>0.9993</td>\n",
       "      <td>NaN</td>\n",
       "      <td>0</td>\n",
       "      <td>AIGD</td>\n",
       "      <td>0.434</td>\n",
       "      <td>0.603</td>\n",
       "      <td>1.0</td>\n",
       "      <td>0.0</td>\n",
       "      <td>0.0</td>\n",
       "      <td>DB00754</td>\n",
       "    </tr>\n",
       "  </tbody>\n",
       "</table>\n",
       "</div>"
      ],
      "text/plain": [
       "  compound_name  prediction  disease_pctl phcodb  trials category  min_pred  \\\n",
       "0    Topiramate       0.603        1.0000     DM      35     AIGD     0.460   \n",
       "1      Ethotoin       0.589        0.9993    NaN       0     AIGD     0.434   \n",
       "\n",
       "   max_pred  freq_AIGD  freq_IGD  freq_UNKD compound_id  \n",
       "0     0.603        1.0       0.0        0.0     DB00273  \n",
       "1     0.603        1.0       0.0        0.0     DB00754  "
      ]
     },
     "execution_count": 3,
     "metadata": {},
     "output_type": "execute_result"
    }
   ],
   "source": [
    "top_compounds_df = (pandas.read_table('./data/windows.tsv')\n",
    "    .rename(columns={'name': 'compound_name'})\n",
    "    .merge(compound_df)\n",
    ")\n",
    "top_compounds_df.head(2)"
   ]
  },
  {
   "cell_type": "code",
   "execution_count": 4,
   "metadata": {
    "collapsed": false
   },
   "outputs": [
    {
     "data": {
      "text/html": [
       "<div>\n",
       "<table border=\"1\" class=\"dataframe\">\n",
       "  <thead>\n",
       "    <tr style=\"text-align: right;\">\n",
       "      <th></th>\n",
       "      <th>nodes</th>\n",
       "      <th>percent_of_prediction</th>\n",
       "      <th>percent_of_DWPC</th>\n",
       "      <th>source_edge</th>\n",
       "      <th>target_edge</th>\n",
       "      <th>metapath</th>\n",
       "    </tr>\n",
       "  </thead>\n",
       "  <tbody>\n",
       "    <tr>\n",
       "      <th>0</th>\n",
       "      <td>Topiramate—migraine—epilepsy syndrome</td>\n",
       "      <td>0.1780</td>\n",
       "      <td>1.000</td>\n",
       "      <td>Topiramate—treats—migraine</td>\n",
       "      <td>epilepsy syndrome—resembles—migraine</td>\n",
       "      <td>CtDrD</td>\n",
       "    </tr>\n",
       "    <tr>\n",
       "      <th>1</th>\n",
       "      <td>Topiramate—GRIK5—epilepsy syndrome</td>\n",
       "      <td>0.0385</td>\n",
       "      <td>0.249</td>\n",
       "      <td>Topiramate—binds—GRIK5</td>\n",
       "      <td>epilepsy syndrome—associates—GRIK5</td>\n",
       "      <td>CbGaD</td>\n",
       "    </tr>\n",
       "  </tbody>\n",
       "</table>\n",
       "</div>"
      ],
      "text/plain": [
       "                                   nodes  percent_of_prediction  \\\n",
       "0  Topiramate—migraine—epilepsy syndrome                 0.1780   \n",
       "1     Topiramate—GRIK5—epilepsy syndrome                 0.0385   \n",
       "\n",
       "   percent_of_DWPC                 source_edge  \\\n",
       "0            1.000  Topiramate—treats—migraine   \n",
       "1            0.249      Topiramate—binds—GRIK5   \n",
       "\n",
       "                            target_edge metapath  \n",
       "0  epilepsy syndrome—resembles—migraine    CtDrD  \n",
       "1    epilepsy syndrome—associates—GRIK5    CbGaD  "
      ]
     },
     "execution_count": 4,
     "metadata": {},
     "output_type": "execute_result"
    }
   ],
   "source": [
    "path_dfs = list()\n",
    "for compound_id in top_compounds_df.compound_id:\n",
    "    path = '../../het.io-rep-data/prediction-info/{}/DOID_1826/paths.tsv'.format(compound_id)\n",
    "    path_dfs.append(pandas.read_table(path))\n",
    "path_df = pandas.concat(path_dfs)\n",
    "path_df.head(2)"
   ]
  },
  {
   "cell_type": "code",
   "execution_count": 5,
   "metadata": {
    "collapsed": false
   },
   "outputs": [],
   "source": [
    "def summarize(df):\n",
    "    s = pandas.Series()\n",
    "    s['paths'] = len(df)\n",
    "    s['contribution'] = sum(df.percent_of_prediction)\n",
    "    return s"
   ]
  },
  {
   "cell_type": "markdown",
   "metadata": {},
   "source": [
    "## Source edge contributions"
   ]
  },
  {
   "cell_type": "code",
   "execution_count": 6,
   "metadata": {
    "collapsed": false
   },
   "outputs": [
    {
     "data": {
      "text/html": [
       "<div>\n",
       "<table border=\"1\" class=\"dataframe\">\n",
       "  <thead>\n",
       "    <tr style=\"text-align: right;\">\n",
       "      <th></th>\n",
       "      <th>source_edge</th>\n",
       "      <th>paths</th>\n",
       "      <th>contribution</th>\n",
       "    </tr>\n",
       "  </thead>\n",
       "  <tbody>\n",
       "    <tr>\n",
       "      <th>1437</th>\n",
       "      <td>Compound—includes—Decreased Central Nervous Sy...</td>\n",
       "      <td>238.0</td>\n",
       "      <td>6.341200</td>\n",
       "    </tr>\n",
       "    <tr>\n",
       "      <th>1429</th>\n",
       "      <td>Compound—includes—Benzodiazepines</td>\n",
       "      <td>52.0</td>\n",
       "      <td>3.844600</td>\n",
       "    </tr>\n",
       "    <tr>\n",
       "      <th>104</th>\n",
       "      <td>Compound—binds—GABRA1</td>\n",
       "      <td>12385.0</td>\n",
       "      <td>2.819223</td>\n",
       "    </tr>\n",
       "    <tr>\n",
       "      <th>1519</th>\n",
       "      <td>Compound—resembles—Diazepam</td>\n",
       "      <td>402.0</td>\n",
       "      <td>2.708075</td>\n",
       "    </tr>\n",
       "    <tr>\n",
       "      <th>1438</th>\n",
       "      <td>Compound—includes—General Anesthesia</td>\n",
       "      <td>6.0</td>\n",
       "      <td>2.456000</td>\n",
       "    </tr>\n",
       "  </tbody>\n",
       "</table>\n",
       "</div>"
      ],
      "text/plain": [
       "                                            source_edge    paths  contribution\n",
       "1437  Compound—includes—Decreased Central Nervous Sy...    238.0      6.341200\n",
       "1429                  Compound—includes—Benzodiazepines     52.0      3.844600\n",
       "104                               Compound—binds—GABRA1  12385.0      2.819223\n",
       "1519                        Compound—resembles—Diazepam    402.0      2.708075\n",
       "1438               Compound—includes—General Anesthesia      6.0      2.456000"
      ]
     },
     "execution_count": 6,
     "metadata": {},
     "output_type": "execute_result"
    }
   ],
   "source": [
    "source_df = (path_df\n",
    "    .assign(source_edge = path_df.source_edge.map(lambda x: 'Compound—' + x.split('—', 1)[1]))\n",
    "    .groupby('source_edge')\n",
    "    .apply(summarize).reset_index()\n",
    "    .sort_values('contribution', ascending=False)\n",
    ")\n",
    "source_df.head()"
   ]
  },
  {
   "cell_type": "code",
   "execution_count": 7,
   "metadata": {
    "collapsed": false
   },
   "outputs": [
    {
     "data": {
      "text/plain": [
       "1667"
      ]
     },
     "execution_count": 7,
     "metadata": {},
     "output_type": "execute_result"
    }
   ],
   "source": [
    "source_df.to_csv('data/source-edge-contributions.tsv', sep='\\t', index=False, float_format='%.5g')\n",
    "len(source_df)"
   ]
  },
  {
   "cell_type": "markdown",
   "metadata": {},
   "source": [
    "## Target edge contributions"
   ]
  },
  {
   "cell_type": "code",
   "execution_count": 8,
   "metadata": {
    "collapsed": false
   },
   "outputs": [
    {
     "data": {
      "text/html": [
       "<div>\n",
       "<table border=\"1\" class=\"dataframe\">\n",
       "  <thead>\n",
       "    <tr style=\"text-align: right;\">\n",
       "      <th></th>\n",
       "      <th>target_edge</th>\n",
       "      <th>paths</th>\n",
       "      <th>contribution</th>\n",
       "    </tr>\n",
       "  </thead>\n",
       "  <tbody>\n",
       "    <tr>\n",
       "      <th>355</th>\n",
       "      <td>epilepsy syndrome—treats—Diazepam</td>\n",
       "      <td>6843.0</td>\n",
       "      <td>8.123404</td>\n",
       "    </tr>\n",
       "    <tr>\n",
       "      <th>354</th>\n",
       "      <td>epilepsy syndrome—treats—Clonazepam</td>\n",
       "      <td>6488.0</td>\n",
       "      <td>6.273890</td>\n",
       "    </tr>\n",
       "    <tr>\n",
       "      <th>362</th>\n",
       "      <td>epilepsy syndrome—treats—Midazolam</td>\n",
       "      <td>4832.0</td>\n",
       "      <td>6.116992</td>\n",
       "    </tr>\n",
       "    <tr>\n",
       "      <th>353</th>\n",
       "      <td>epilepsy syndrome—treats—Clobazam</td>\n",
       "      <td>4159.0</td>\n",
       "      <td>5.670810</td>\n",
       "    </tr>\n",
       "    <tr>\n",
       "      <th>351</th>\n",
       "      <td>epilepsy syndrome—treats—Amobarbital</td>\n",
       "      <td>2002.0</td>\n",
       "      <td>4.840363</td>\n",
       "    </tr>\n",
       "  </tbody>\n",
       "</table>\n",
       "</div>"
      ],
      "text/plain": [
       "                              target_edge   paths  contribution\n",
       "355     epilepsy syndrome—treats—Diazepam  6843.0      8.123404\n",
       "354   epilepsy syndrome—treats—Clonazepam  6488.0      6.273890\n",
       "362    epilepsy syndrome—treats—Midazolam  4832.0      6.116992\n",
       "353     epilepsy syndrome—treats—Clobazam  4159.0      5.670810\n",
       "351  epilepsy syndrome—treats—Amobarbital  2002.0      4.840363"
      ]
     },
     "execution_count": 8,
     "metadata": {},
     "output_type": "execute_result"
    }
   ],
   "source": [
    "target_df = (path_df\n",
    "    .groupby('target_edge')\n",
    "    .apply(summarize).reset_index()\n",
    "    .sort_values('contribution', ascending=False)\n",
    ")\n",
    "target_df.head()"
   ]
  },
  {
   "cell_type": "code",
   "execution_count": 9,
   "metadata": {
    "collapsed": false
   },
   "outputs": [
    {
     "data": {
      "text/plain": [
       "375"
      ]
     },
     "execution_count": 9,
     "metadata": {},
     "output_type": "execute_result"
    }
   ],
   "source": [
    "target_df.to_csv('data/target-edge-contributions.tsv', sep='\\t', index=False, float_format='%.5g')\n",
    "len(target_df)"
   ]
  }
 ],
 "metadata": {
  "anaconda-cloud": {},
  "kernelspec": {
   "display_name": "Python [default]",
   "language": "python",
   "name": "python3"
  },
  "language_info": {
   "codemirror_mode": {
    "name": "ipython",
    "version": 3
   },
   "file_extension": ".py",
   "mimetype": "text/x-python",
   "name": "python",
   "nbconvert_exporter": "python",
   "pygments_lexer": "ipython3",
   "version": "3.5.2"
  }
 },
 "nbformat": 4,
 "nbformat_minor": 1
}
