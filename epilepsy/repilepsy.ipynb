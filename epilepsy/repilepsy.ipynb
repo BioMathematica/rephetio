{
 "cells": [
  {
   "cell_type": "markdown",
   "metadata": {},
   "source": [
    "# Visualize Top Epilepsy Predictions from Project Rephetio\n",
    "\n",
    "Uses [PK's manual curation](https://thinklab.com/d/203#14) of the top 100 [epilepsy predictions](http://het.io/repurpose/browse.html?id=DOID_1826)."
   ]
  },
  {
   "cell_type": "code",
   "execution_count": 1,
   "metadata": {
    "collapsed": true
   },
   "outputs": [],
   "source": [
    "library(magrittr)"
   ]
  },
  {
   "cell_type": "code",
   "execution_count": 2,
   "metadata": {
    "collapsed": false
   },
   "outputs": [
    {
     "data": {
      "text/html": [
       "<table>\n",
       "<thead><tr><th scope=col>name</th><th scope=col>prediction</th><th scope=col>disease_pctl</th><th scope=col>status</th><th scope=col>min_pred</th><th scope=col>max_pred</th><th scope=col>freq_?</th><th scope=col>freq_AED</th><th scope=col>freq_AEP</th><th scope=col>freq_IS</th><th scope=col>disease_rank</th></tr></thead>\n",
       "<tbody>\n",
       "\t<tr><td>Topiramate</td><td>0.603     </td><td>1.000     </td><td>AED       </td><td>0.460     </td><td>0.603     </td><td>0         </td><td>1         </td><td>0         </td><td>0         </td><td>1         </td></tr>\n",
       "\t<tr><td>Ethotoin  </td><td>0.589     </td><td>0.999     </td><td>AED       </td><td>0.434     </td><td>0.603     </td><td>0         </td><td>1         </td><td>0         </td><td>0         </td><td>2         </td></tr>\n",
       "\t<tr><td>Quazepam  </td><td>0.570     </td><td>0.999     </td><td>AED       </td><td>0.430     </td><td>0.603     </td><td>0         </td><td>1         </td><td>0         </td><td>0         </td><td>3         </td></tr>\n",
       "\t<tr><td>Alprazolam</td><td>0.565     </td><td>0.998     </td><td>AED       </td><td>0.409     </td><td>0.603     </td><td>0         </td><td>1         </td><td>0         </td><td>0         </td><td>4         </td></tr>\n",
       "\t<tr><td>Primidone </td><td>0.494     </td><td>0.997     </td><td>AED       </td><td>0.402     </td><td>0.603     </td><td>0         </td><td>1         </td><td>0         </td><td>0         </td><td>5         </td></tr>\n",
       "\t<tr><td>Lorazepam </td><td>0.489     </td><td>0.997     </td><td>AED       </td><td>0.381     </td><td>0.603     </td><td>0         </td><td>1         </td><td>0         </td><td>0         </td><td>6         </td></tr>\n",
       "</tbody>\n",
       "</table>\n"
      ],
      "text/latex": [
       "\\begin{tabular}{r|lllllllllll}\n",
       " name & prediction & disease\\_pctl & status & min\\_pred & max\\_pred & freq\\_? & freq\\_AED & freq\\_AEP & freq\\_IS & disease\\_rank\\\\\n",
       "\\hline\n",
       "\t Topiramate & 0.603      & 1.000      & AED        & 0.460      & 0.603      & 0          & 1          & 0          & 0          & 1         \\\\\n",
       "\t Ethotoin   & 0.589      & 0.999      & AED        & 0.434      & 0.603      & 0          & 1          & 0          & 0          & 2         \\\\\n",
       "\t Quazepam   & 0.570      & 0.999      & AED        & 0.430      & 0.603      & 0          & 1          & 0          & 0          & 3         \\\\\n",
       "\t Alprazolam & 0.565      & 0.998      & AED        & 0.409      & 0.603      & 0          & 1          & 0          & 0          & 4         \\\\\n",
       "\t Primidone  & 0.494      & 0.997      & AED        & 0.402      & 0.603      & 0          & 1          & 0          & 0          & 5         \\\\\n",
       "\t Lorazepam  & 0.489      & 0.997      & AED        & 0.381      & 0.603      & 0          & 1          & 0          & 0          & 6         \\\\\n",
       "\\end{tabular}\n"
      ],
      "text/plain": [
       "  name       prediction disease_pctl status min_pred max_pred freq_? freq_AED\n",
       "1 Topiramate 0.603      1.000        AED    0.460    0.603    0      1       \n",
       "2 Ethotoin   0.589      0.999        AED    0.434    0.603    0      1       \n",
       "3 Quazepam   0.570      0.999        AED    0.430    0.603    0      1       \n",
       "4 Alprazolam 0.565      0.998        AED    0.409    0.603    0      1       \n",
       "5 Primidone  0.494      0.997        AED    0.402    0.603    0      1       \n",
       "6 Lorazepam  0.489      0.997        AED    0.381    0.603    0      1       \n",
       "  freq_AEP freq_IS disease_rank\n",
       "1 0        0       1           \n",
       "2 0        0       2           \n",
       "3 0        0       3           \n",
       "4 0        0       4           \n",
       "5 0        0       5           \n",
       "6 0        0       6           "
      ]
     },
     "metadata": {},
     "output_type": "display_data"
    }
   ],
   "source": [
    "window_df = suppressMessages(readr::read_tsv('data/windows.tsv')) %>%\n",
    "  dplyr::mutate(disease_rank = dplyr::row_number(-disease_pctl))\n",
    "\n",
    "head(window_df)"
   ]
  },
  {
   "cell_type": "code",
   "execution_count": 3,
   "metadata": {
    "collapsed": false
   },
   "outputs": [
    {
     "data": {
      "text/html": [
       "<ol class=list-inline>\n",
       "\t<li>0.936</li>\n",
       "\t<li>1</li>\n",
       "</ol>\n"
      ],
      "text/latex": [
       "\\begin{enumerate*}\n",
       "\\item 0.936\n",
       "\\item 1\n",
       "\\end{enumerate*}\n"
      ],
      "text/markdown": [
       "1. 0.936\n",
       "2. 1\n",
       "\n",
       "\n"
      ],
      "text/plain": [
       "[1] 0.936 1.000"
      ]
     },
     "metadata": {},
     "output_type": "display_data"
    }
   ],
   "source": [
    "range(window_df$disease_pctl)"
   ]
  },
  {
   "cell_type": "code",
   "execution_count": 4,
   "metadata": {
    "collapsed": false
   },
   "outputs": [
    {
     "data": {
      "text/html": [
       "<table>\n",
       "<thead><tr><th scope=col>name</th><th scope=col>prediction</th><th scope=col>disease_pctl</th><th scope=col>status</th><th scope=col>min_pred</th><th scope=col>max_pred</th><th scope=col>disease_rank</th><th scope=col>window_status</th><th scope=col>window_freq</th></tr></thead>\n",
       "<tbody>\n",
       "\t<tr><td>Topiramate</td><td>0.603     </td><td>1.000     </td><td>AED       </td><td>0.460     </td><td>0.603     </td><td>1         </td><td>AED       </td><td>1         </td></tr>\n",
       "\t<tr><td>Ethotoin  </td><td>0.589     </td><td>0.999     </td><td>AED       </td><td>0.434     </td><td>0.603     </td><td>2         </td><td>AED       </td><td>1         </td></tr>\n",
       "</tbody>\n",
       "</table>\n"
      ],
      "text/latex": [
       "\\begin{tabular}{r|lllllllll}\n",
       " name & prediction & disease\\_pctl & status & min\\_pred & max\\_pred & disease\\_rank & window\\_status & window\\_freq\\\\\n",
       "\\hline\n",
       "\t Topiramate & 0.603      & 1.000      & AED        & 0.460      & 0.603      & 1          & AED        & 1         \\\\\n",
       "\t Ethotoin   & 0.589      & 0.999      & AED        & 0.434      & 0.603      & 2          & AED        & 1         \\\\\n",
       "\\end{tabular}\n"
      ],
      "text/plain": [
       "  name       prediction disease_pctl status min_pred max_pred disease_rank\n",
       "1 Topiramate 0.603      1.000        AED    0.460    0.603    1           \n",
       "2 Ethotoin   0.589      0.999        AED    0.434    0.603    2           \n",
       "  window_status window_freq\n",
       "1 AED           1          \n",
       "2 AED           1          "
      ]
     },
     "metadata": {},
     "output_type": "display_data"
    }
   ],
   "source": [
    "area_df = window_df %>%\n",
    "  tidyr::gather(window_status, window_freq, dplyr::starts_with('freq_')) %>%\n",
    "  tidyr::separate(window_status, c('temp', 'window_status'), '_') %>%\n",
    "  dplyr::select(-temp)\n",
    "\n",
    "area_df$window_status = factor(area_df$window_status, levels=c('AED', 'AEP', '?', 'IS'))\n",
    "\n",
    "area_df %<>% dplyr::arrange(window_status)\n",
    "area_df %>% head(2)"
   ]
  },
  {
   "cell_type": "code",
   "execution_count": 5,
   "metadata": {
    "collapsed": false
   },
   "outputs": [
    {
     "data": {},
     "metadata": {},
     "output_type": "display_data"
    },
    {
     "data": {
      "image/png": "[encoded data removed]",
      "text/plain": [
       "plot without title"
      ]
     },
     "metadata": {},
     "output_type": "display_data"
    }
   ],
   "source": [
    "color_map = c(AED='#002699', AEP='#668cff', '?'='#f0e6ff', IS='#ff471a')\n",
    "null_prob = 0.00361\n",
    "\n",
    "gg_pred = window_df %>%\n",
    "  ggplot2::ggplot(ggplot2::aes(x = disease_rank)) +\n",
    "  ggplot2::geom_hline(yintercept = null_prob, size=0.7, linetype='dashed', color='grey') +\n",
    "  ggplot2::annotate('text', x=4, y=null_prob, color='grey', label='null prob.', angle=90, vjust=-0.54, hjust=1) +\n",
    "  ggplot2::geom_ribbon(ggplot2::aes(ymin = min_pred, ymax = max_pred), fill = '#66A58B') +\n",
    "  ggplot2::geom_line(ggplot2::aes(y = prediction), size=1.05, lineend='round', color='#00693E') +\n",
    "  ggplot2::coord_flip() +\n",
    "  hetior::theme_dhimmel() +\n",
    "  #ggplot2::scale_x_reverse(breaks=window_df$disease_rank, labels=tolower(window_df$name)) +\n",
    "  ggplot2::scale_x_reverse(breaks=seq(10, 90, 20), expand=c(0,0), name=\"Compound's Rank in Epilepsy Predictions\") +\n",
    "  ggplot2::scale_y_reverse(expand=c(0,0), breaks=seq(.1, .5, .2), labels=scales::percent, name='Predicted Prob.') +\n",
    "  ggplot2::expand_limits(y = 0) +\n",
    "  ggplot2::theme(plot.margin = grid::unit(c(2, 0, 2, 2), 'points'))\n",
    "\n",
    "\n",
    "gg_status = dplyr::bind_rows(\n",
    "  area_df %>% dplyr::mutate(disease_rank = disease_rank - 0.499),\n",
    "  area_df %>% dplyr::mutate(disease_rank = disease_rank + 0.499)) %>%\n",
    "  dplyr::arrange(disease_rank) %>%\n",
    "  ggplot2::ggplot(ggplot2::aes(x = disease_rank, y = window_freq, fill=window_status)) +\n",
    "  ggplot2::geom_area() +\n",
    "  ggplot2::scale_fill_manual(values=color_map, name=NULL) +\n",
    "  hetior::theme_dhimmel() +\n",
    "  ggplot2::coord_flip() +\n",
    "  ggplot2::scale_x_reverse(name=NULL, labels=NULL, expand=c(0,0)) +\n",
    "  ggplot2::scale_y_continuous(expand=c(0,0), name=NULL, labels=NULL) +\n",
    "  ggplot2::theme(legend.position = 'bottom', axis.ticks=ggplot2::element_blank()\n",
    "                 #, legend.background = ggplot2::element_rect(fill='gray90')\n",
    "  ) +\n",
    "  ggplot2::guides(fill = ggplot2::guide_legend(keywidth=.5, keyheight=.5)) +\n",
    "  ggplot2::theme(plot.margin = grid::unit(c(2, 2, 2, -1), 'points'))\n",
    "\n",
    "gg_epilepsy = cowplot::plot_grid(gg_pred, gg_status)\n",
    "\n",
    "\n",
    "w = 4; h = 4\n",
    "\n",
    "options(repr.plot.width=w, repr.plot.height=h)\n",
    "gg_epilepsy"
   ]
  },
  {
   "cell_type": "code",
   "execution_count": 6,
   "metadata": {
    "collapsed": true
   },
   "outputs": [],
   "source": [
    "# Save to file\n",
    "ggplot2::ggsave('figure/epilepsy.png', gg_epilepsy, width = w, height = h, dpi=300)\n",
    "ggplot2::ggsave('figure/epilepsy.pdf', gg_epilepsy, width = w, height = h)"
   ]
  }
 ],
 "metadata": {
  "anaconda-cloud": {},
  "kernelspec": {
   "display_name": "R",
   "language": "R",
   "name": "ir"
  },
  "language_info": {
   "codemirror_mode": "r",
   "file_extension": ".r",
   "mimetype": "text/x-r-source",
   "name": "R",
   "pygments_lexer": "r",
   "version": "3.3.1"
  }
 },
 "nbformat": 4,
 "nbformat_minor": 1
}
